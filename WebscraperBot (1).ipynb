{
  "nbformat": 4,
  "nbformat_minor": 0,
  "metadata": {
    "colab": {
      "name": "WebscraperBot.ipynb",
      "provenance": [],
      "collapsed_sections": []
    },
    "kernelspec": {
      "name": "python3",
      "display_name": "Python 3"
    },
    "language_info": {
      "name": "python"
    }
  },
  "cells": [
    {
      "cell_type": "code",
      "source": [
        "import time\n",
        "import pandas as pd\n",
        "import requests\n",
        "from bs4 import BeautifulSoup\n",
        "from datetime import datetime\n",
        "import os"
      ],
      "metadata": {
        "id": "ZDg-UCnzfdM3"
      },
      "execution_count": 2,
      "outputs": []
    },
    {
      "cell_type": "code",
      "source": [
        "def extract(page):\n",
        "  headers={'User-Agent':'Mozilla/5.0 (Windows NT 10.0; WOW64) AppleWebKit/537.36 (KHTML, like Gecko) Chrome/100.0.4896.88 Safari/537.36'}\n",
        "  URL=f\"https://www.linkedin.com/jobs/search/?keywords=data%20scientist&position={page}\"\n",
        "  r=requests.get(URL,headers)\n",
        "  soup=BeautifulSoup(r.content, 'html.parser')\n",
        "  return(soup)"
      ],
      "metadata": {
        "id": "M3koDptEz66L"
      },
      "execution_count": 3,
      "outputs": []
    },
    {
      "cell_type": "code",
      "source": [
        "def transform(soup):\n",
        "  divs=soup.find_all('div',class_='base-search-card__info')\n",
        "  for list in divs:\n",
        "    Job_title=list.find('h3').text.strip()\n",
        "    Company=list.find('a',class_=\"hidden-nested-link\").text.strip()\n",
        "    \n",
        "    #for link in soup.find_all('a'):\n",
        "     # Job_URL=link.get('href')\n",
        "    #Job_URL=list.findAll('a',class_=\"base-card__full-link\").get('href')\n",
        "    #print(Job_URL)\n",
        "    job={'Job_Title': Job_title,\n",
        "        'Company':Company,\n",
        "         }\n",
        "    JobList.append(job)\n",
        "    return\n",
        "\n",
        "\n",
        "JobList=[]\n",
        "\n",
        "for i in range(0,30,1):\n",
        "  c=extract(0)\n",
        "  transform(c)\n",
        "   \n",
        "   \n",
        "df=pd.DataFrame(JobList)\n",
        "\n",
        "df.to_csv('JobList1.csv')"
      ],
      "metadata": {
        "id": "T3x1s2vhzuxX"
      },
      "execution_count": 14,
      "outputs": []
    },
    {
      "cell_type": "code",
      "source": [
        "from telegram import *\n",
        "from telegram.ext import *\n",
        "from telegram.update import Update\n",
        "from telegram.ext.callbackcontext import CallbackContext\n",
        "from telegram.ext.commandhandler import CommandHandler\n",
        "from telegram.ext.messagehandler import MessageHandler\n",
        "from telegram.ext.filters import Filters"
      ],
      "metadata": {
        "id": "TvUHcgQTn4ik"
      },
      "execution_count": 1,
      "outputs": []
    },
    {
      "cell_type": "code",
      "source": [
        "bot = Bot(\"5121210669:AAFSyAZrcqUAR2usqVfFvXAWBfHFuEBwe9g\")\n",
        "\n",
        "print(bot.get_me())"
      ],
      "metadata": {
        "colab": {
          "base_uri": "https://localhost:8080/"
        },
        "id": "WFodv1wZojyh",
        "outputId": "78f90878-cd69-435d-a23d-b17335cd2a68"
      },
      "execution_count": 2,
      "outputs": [
        {
          "output_type": "stream",
          "name": "stdout",
          "text": [
            "{'username': 'InfoDsBot', 'first_name': 'InfoCenter', 'is_bot': True, 'supports_inline_queries': False, 'can_read_all_group_messages': False, 'id': 5121210669, 'can_join_groups': True}\n"
          ]
        }
      ]
    },
    {
      "cell_type": "code",
      "source": [
        "updater=Updater(\"5121210669:AAFSyAZrcqUAR2usqVfFvXAWBfHFuEBwe9g\",use_context=True)"
      ],
      "metadata": {
        "id": "4TD2adSAooKM"
      },
      "execution_count": 3,
      "outputs": []
    },
    {
      "cell_type": "code",
      "source": [
        "def start(update: Update, context: CallbackContext):\n",
        "\tupdate.message.reply_text(\"Hello Memeber Welcome to Vihar_Bot\")"
      ],
      "metadata": {
        "id": "tQjHvRInooNp"
      },
      "execution_count": 4,
      "outputs": []
    },
    {
      "cell_type": "code",
      "source": [
        "def Naukri_url(update: Update, context: CallbackContext):\n",
        "  c_id = '000011'   \n",
        "  filename = '/content/JobList1.csv'\n",
        "  context.bot.send_document(chat_id='c_id', document=open('JobList1.csv', 'rb'), filename=\"JobList1.csv\")"
      ],
      "metadata": {
        "id": "xIBJAE6Gp6bX"
      },
      "execution_count": 6,
      "outputs": []
    },
    {
      "cell_type": "code",
      "source": [
        "updater.dispatcher.add_handler(CommandHandler('Naukri', Naukri_url))"
      ],
      "metadata": {
        "id": "WzDCOMN7pKJv"
      },
      "execution_count": 7,
      "outputs": []
    },
    {
      "cell_type": "code",
      "source": [
        "updater.start_polling()"
      ],
      "metadata": {
        "colab": {
          "base_uri": "https://localhost:8080/"
        },
        "id": "yyWua-Yzpyhv",
        "outputId": "312c40b9-893c-4972-c8d6-c64aa15b85c4"
      },
      "execution_count": 8,
      "outputs": [
        {
          "output_type": "execute_result",
          "data": {
            "text/plain": [
              "<queue.Queue at 0x7fb0cdf51650>"
            ]
          },
          "metadata": {},
          "execution_count": 8
        }
      ]
    }
  ]
}